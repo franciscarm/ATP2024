{
 "cells": [
  {
   "cell_type": "markdown",
   "metadata": {},
   "source": [
    "### TPC2: Adivinha o número\n",
    "- Crie um programa em Python para jogar o jogo \"Adivinha o número\":\n",
    "    - O jogo pode ter 2 modalidades: computador pensa num número (entre 0 e 100), utilizador tenta adivinhar; ou, o utilizador pensa num número (entre 0 e 100) e o computador tenta adivinhar;\n",
    "    - Quem tenta adivinhar responde com uma das afirmações: \"Acertou\", \"O número que pensei é Maior\" ou \"O número que pensei é Menor\";\n",
    "    - Uma vez descoberto o número o programa deverá terminar imprimindo o número de tentativas que quem adivinhou usou para chegar ao resultado."
   ]
  },
  {
   "cell_type": "code",
   "execution_count": null,
   "metadata": {},
   "outputs": [],
   "source": [
    "# O computador adivinha o meu número\n",
    "\n",
    "import random\n",
    "\n",
    "min= 0\n",
    "max = 100\n",
    "\n",
    "y= random.randrange (0 , 100)\n",
    "print (\"Acho que o número é\",y)\n",
    "x = input(\"Introduza a letra m para maior, n para menor e i para igual\")\n",
    "\n",
    "palpites = 1\n",
    "\n",
    "while x != \"i\":\n",
    "    if x == \"m\":\n",
    "        palpites = palpites + 1\n",
    "        min =  y + 1\n",
    "        y = random.randrange (min , max)\n",
    "        print (\"Novo número\",y)\n",
    "        x = input(\"Introduza a letra m para maior, n para menor e i para igual\")\n",
    "    elif x == \"n\":\n",
    "        palpites = palpites + 1\n",
    "        max = y\n",
    "        y = random.randrange (min , max)\n",
    "        print (\"Novo número\",y)\n",
    "        x = input(\"Introduza a letra m para maior, n para menor e i para igual\")\n",
    "    else:\n",
    "        print (\"Colocou uma letra errada, tente novamente\")\n",
    "        x = input(\"Introduza a letra m para maior, n para menor e i para igual\")\n",
    "\n",
    "print (\"O teu numero é\" , y, \"Consegui adivinhar em\" , palpites , \"palpites\")\n"
   ]
  },
  {
   "cell_type": "code",
   "execution_count": 6,
   "metadata": {},
   "outputs": [
    {
     "name": "stdout",
     "output_type": "stream",
     "text": [
      "Vamos jogar ao advinhe o número! Boa sorte!\n",
      "Adivinha um numero menor\n",
      "Adivinha um numero maior\n",
      "Adivinha um numero menor\n",
      "Adivinha um numero maior\n",
      "Conseguiste! Descobriste em 4 tentativas\n"
     ]
    }
   ],
   "source": [
    "# Eu adivinho o número que o computador está a pensar\n",
    "import random \n",
    "\n",
    "print (\"Vamos jogar ao advinhe o número! Boa sorte!\")\n",
    "n= random.randrange (0 , 100)\n",
    "\n",
    "palpites = 0\n",
    "meu_palpite= int(input(\"Digite o seu palpite\"))\n",
    "\n",
    "while meu_palpite != n:\n",
    "    palpites = palpites + 1 \n",
    "    if meu_palpite > n:\n",
    "        print (\"Adivinha um numero menor\")\n",
    "    elif meu_palpite < n:\n",
    "        print (\"Adivinha um numero maior\")\n",
    "    meu_palpite = int(input(\"tente novamente:\"))\n",
    "\n",
    "print (\"Conseguiste! Descobriste em\" , palpites, \"tentativas\")"
   ]
  }
 ],
 "metadata": {
  "kernelspec": {
   "display_name": "Python 3",
   "language": "python",
   "name": "python3"
  },
  "language_info": {
   "codemirror_mode": {
    "name": "ipython",
    "version": 3
   },
   "file_extension": ".py",
   "mimetype": "text/x-python",
   "name": "python",
   "nbconvert_exporter": "python",
   "pygments_lexer": "ipython3",
   "version": "3.11.5"
  }
 },
 "nbformat": 4,
 "nbformat_minor": 2
}
