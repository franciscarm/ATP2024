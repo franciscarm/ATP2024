{
 "cells": [
  {
   "cell_type": "markdown",
   "metadata": {},
   "source": [
    "## TPC3: Jogo dos 21 fósforos\n",
    "\n",
    "Desenvolve em Python o código necessário para o jogo dos 21 fósforos: \n",
    "\n",
    "### O jogo\n",
    "\n",
    "* No início do jogo, há 21 fósforos;\n",
    "* Cada jogador (computador ou utilizador), pode tirar 1, 2, 3 ou 4 fósforos quando for a sua vez de jogar;\n",
    "* Os jogadores jogam alternadamente;\n",
    "* **Quem tirar o último fósforo perde!**\n",
    "\n",
    "### O programa \n",
    "\n",
    "* O jogo deverá ter dois modos: o jogador joga em primeiro lugar e o computador começa a jogar em segundo lugar e, no segundo modo, o computador começa em primeiro; \n",
    "* Quando o computador começa a jogar em segundo lugar, deve ganhar sempre o jogo;\n",
    "* Quando o computador começa a jogar em primeiro lugar, se o utilizador cometer um erro de cálculo, o computador deverá passar para a posição de vencedor e ganhar o jogo."
   ]
  },
  {
   "cell_type": "code",
   "execution_count": 7,
   "metadata": {},
   "outputs": [
    {
     "name": "stdout",
     "output_type": "stream",
     "text": [
      "O jogador retirou 4 fosforos. Sobram 17\n",
      "O computador retirou 1 fosforos. Sobram 16\n",
      "O jogador retirou 2 fosforos. Sobram 14\n",
      "O computador retirou 3 fosforos. Sobram 11\n",
      "O jogador retirou 1 fosforos. Sobram 10\n",
      "O computador retirou 4 fosforos. Sobram 6\n",
      "O jogador retirou 1 fosforos. Sobram 5\n",
      "O computador retirou 4 fosforos. Sobram 1\n",
      "O jogador retirou 1 fosforos. Sobram 0\n",
      "Você perdeu!!\n"
     ]
    }
   ],
   "source": [
    "#Primeiro Modo\n",
    "\n",
    "import random\n",
    "n_fosforos = 21\n",
    "jogador_per = \"\"\n",
    "\n",
    "while n_fosforos > 0 and jogador_per == \"\":\n",
    "    x = int(input(\"Tire de 1 a 4 fosforos.\"))\n",
    "    while x < 1 or x > 4 or x > n_fosforos:\n",
    "        print (\"Colocou um número que não é aceite. Tente novamente:\")\n",
    "        x = int(input(\"Escolha um número de 1 a 4 para retirar!\"))\n",
    "    n_fosforos = n_fosforos - x\n",
    "    print (\"O jogador retirou\",x,\"fosforos. Sobram\",n_fosforos)\n",
    "\n",
    "    if n_fosforos == 0:\n",
    "        jogador_per = \"jogador\"\n",
    "\n",
    "    if n_fosforos > 0 and jogador_per == \"\":\n",
    "        if (n_fosforos - 1) % 5 == 0:\n",
    "            y = random.randrange(1,5)\n",
    "        else:\n",
    "            y = (n_fosforos - 1) % 5\n",
    "\n",
    "        n_fosforos = n_fosforos - y\n",
    "        print (\"O computador retirou\",y,\"fosforos. Sobram\",n_fosforos)\n",
    "\n",
    "        if n_fosforos == 0:\n",
    "            jogador_per = \"computador\"\n",
    "\n",
    "if jogador_per == \"jogador\":\n",
    "    print (\"Você perdeu!!\")\n",
    "else:\n",
    "    print (\"O computador perdeu!!\")\n"
   ]
  },
  {
   "cell_type": "code",
   "execution_count": 9,
   "metadata": {},
   "outputs": [
    {
     "name": "stdout",
     "output_type": "stream",
     "text": [
      "O computador retirou 2 fosforos. Sobram 19\n",
      "O jogador retirou 2 fosforos. Sobram 17\n",
      "O computador retirou 4 fosforos. Sobram 13\n",
      "O jogador retirou 4 fosforos. Sobram 9\n",
      "O computador retirou 4 fosforos. Sobram 5\n",
      "O jogador retirou 4 fosforos. Sobram 1\n",
      "O computador retirou 1 fosforos. Sobram 0\n",
      "O computador perdeu!!\n"
     ]
    }
   ],
   "source": [
    "#Segundo Modo\n",
    "\n",
    "import random\n",
    "n_fosforos = 21\n",
    "jogador_per = \"\"\n",
    "\n",
    "while n_fosforos > 0:\n",
    "    y = random.randrange (1,5)\n",
    "    if y > n_fosforos:\n",
    "        y = random.randrange (1, n_fosforos + 1)\n",
    "    n_fosforos = n_fosforos - y\n",
    "    print (\"O computador retirou\",y,\"fosforos. Sobram\",n_fosforos)\n",
    "  \n",
    "    if n_fosforos == 0:\n",
    "        jogador_per = \"computador\"\n",
    "    else:\n",
    "        x = int(input(\"Introduza um número de 1 a 4: \"))\n",
    "\n",
    "        while x < 1 or x > 4 or x > n_fosforos:\n",
    "            print (\"Colocou um número não aceitável. Tente novamente:\")\n",
    "            x = int(input(\"Introduza um número de 1 a 4\"))\n",
    "        n_fosforos = n_fosforos - x\n",
    "        print (\"O jogador retirou\",x,\"fosforos. Sobram\",n_fosforos)\n",
    "\n",
    "        if n_fosforos == 0:\n",
    "            jogador_per = \"jogador\"\n",
    "\n",
    "if jogador_per == \"jogador\":\n",
    "    print (\"Você perdeu!!\")\n",
    "else:\n",
    "    print (\"O computador perdeu!!\")\n"
   ]
  }
 ],
 "metadata": {
  "kernelspec": {
   "display_name": "Python 3",
   "language": "python",
   "name": "python3"
  },
  "language_info": {
   "codemirror_mode": {
    "name": "ipython",
    "version": 3
   },
   "file_extension": ".py",
   "mimetype": "text/x-python",
   "name": "python",
   "nbconvert_exporter": "python",
   "pygments_lexer": "ipython3",
   "version": "3.11.5"
  }
 },
 "nbformat": 4,
 "nbformat_minor": 2
}
